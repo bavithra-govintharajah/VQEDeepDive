{
 "cells": [
  {
   "cell_type": "code",
   "execution_count": 1,
   "metadata": {},
   "outputs": [],
   "source": [
    "import numpy as np\n",
    "from qiskit import Aer\n",
    "from qiskit.aqua import QuantumInstance\n",
    "from qiskit.aqua.algorithms import VQE, ExactEigensolver\n",
    "from qiskit.aqua.operators import Z2Symmetries\n",
    "from qiskit.aqua.components.optimizers import COBYLA\n",
    "from qiskit.chemistry import FermionicOperator\n",
    "from qiskit.chemistry.drivers import PySCFDriver, UnitsType\n",
    "from qiskit.chemistry.components.variational_forms import UCCSD\n",
    "from qiskit.chemistry.components.initial_states import HartreeFock"
   ]
  },
  {
   "cell_type": "markdown",
   "metadata": {},
   "source": [
    "### Step 1: Define a molecule\n",
    "Using the sto3g basis with the PySCF driver as an example, we can describe a molecule."
   ]
  },
  {
   "cell_type": "code",
   "execution_count": 2,
   "metadata": {},
   "outputs": [],
   "source": [
    "driver = PySCFDriver(atom='Li .0 .0 .0; H .0 .0 1.6', unit=UnitsType.ANGSTROM,\n",
    "                     charge=0, spin=0, basis='sto3g')\n",
    "molecule = driver.run()"
   ]
  },
  {
   "cell_type": "markdown",
   "metadata": {},
   "source": [
    "### Step 2: Prepare qubit Hamiltonian\n",
    "Here, we setup the molecular orbitals to be considered and can reduce the problem size when we map to the qubit Hamiltonian. \n",
    "\n",
    "We are also able to define the mapping type for the qubit Hamiltonian, which - in some cases - allows one to further reduce the problem size."
   ]
  },
  {
   "cell_type": "code",
   "execution_count": 3,
   "metadata": {},
   "outputs": [],
   "source": [
    "map_type = 'bravyi_kitaev'"
   ]
  },
  {
   "cell_type": "code",
   "execution_count": 4,
   "metadata": {},
   "outputs": [],
   "source": [
    "# please be aware that the idx here with respective to original idx\n",
    "freeze_list = [0]\n",
    "remove_list = [-3, -2] # negative number denotes the reverse order"
   ]
  },
  {
   "cell_type": "code",
   "execution_count": 5,
   "metadata": {},
   "outputs": [
    {
     "name": "stdout",
     "output_type": "stream",
     "text": [
      "HF energy: -8.854072040283647\n",
      "# of electrons: 4\n",
      "# of spin orbitals: 12\n"
     ]
    }
   ],
   "source": [
    "h1 = molecule.one_body_integrals\n",
    "h2 = molecule.two_body_integrals\n",
    "nuclear_repulsion_energy = molecule.nuclear_repulsion_energy\n",
    "\n",
    "num_particles = molecule.num_alpha + molecule.num_beta\n",
    "num_spin_orbitals = molecule.num_orbitals * 2\n",
    "print(\"HF energy: {}\".format(molecule.hf_energy - molecule.nuclear_repulsion_energy))\n",
    "print(\"# of electrons: {}\".format(num_particles))\n",
    "print(\"# of spin orbitals: {}\".format(num_spin_orbitals))"
   ]
  },
  {
   "cell_type": "code",
   "execution_count": 6,
   "metadata": {
    "scrolled": false
   },
   "outputs": [
    {
     "name": "stdout",
     "output_type": "stream",
     "text": [
      "Representation: paulis, qubits: 6, size: 118\n",
      "IIIIII\t(-0.20765933501970935+0j)\n",
      "IIIIIZ\t(-0.0400165091016335+0j)\n",
      "IIIIZX\t(-0.00031512637666365794+0j)\n",
      "IIIIIX\t(0.00031512637666365794+0j)\n",
      "IIIYYX\t(-0.006707552889287746+0j)\n",
      "IIIXYY\t(0.006707552889287746+0j)\n",
      "IIIIZZ\t(-0.12914560136887615+0j)\n",
      "IIIYYZ\t(0.015008967542962912+0j)\n",
      "IIIXXI\t(0.015008967542962912+0j)\n",
      "IIIZII\t(-0.30546618417220134+0j)\n",
      "IIZZZI\t(-0.04001650910163347+0j)\n",
      "XYYZZI\t(0.00031512637666365447+0j)\n",
      "XXXIII\t(0.00031512637666365447+0j)\n",
      "YIYZZI\t(-0.006707552889287758+0j)\n",
      "XZXIII\t(-0.006707552889287758+0j)\n",
      "IZIIII\t(-0.12914560136887615+0j)\n",
      "ZXIIII\t(-0.015008967542962909+0j)\n",
      "IXIIII\t(0.015008967542962909+0j)\n",
      "ZZIIII\t(-0.30546618417220134+0j)\n",
      "IIIIZI\t(0.05263651528550081+0j)\n",
      "IIIYYI\t(0.004191566320147021+0j)\n",
      "IIIXXZ\t(0.004191566320147021+0j)\n",
      "IIIZIZ\t(0.08247949378222487+0j)\n",
      "IIIYXY\t(0.005456156289317787+0j)\n",
      "IIIXXX\t(0.005456156289317787+0j)\n",
      "IIIZZX\t(-0.0028624550781759677+0j)\n",
      "IIIZIX\t(0.0028624550781759677+0j)\n",
      "IIZZZZ\t(0.12182774215821476+0j)\n",
      "IIZZIX\t(-0.012144897228064267+0j)\n",
      "IIZZZX\t(0.012144897228064267+0j)\n",
      "IIZXXX\t(0.03169874598734439+0j)\n",
      "IIZYXY\t(0.03169874598734439+0j)\n",
      "XXXIIZ\t(0.012144897228064267+0j)\n",
      "XYYZZZ\t(0.012144897228064267+0j)\n",
      "XXXIZX\t(-0.003265995499658127+0j)\n",
      "XYYZIX\t(-0.003265995499658127+0j)\n",
      "XXXIIX\t(0.003265995499658127+0j)\n",
      "XYYZZX\t(0.003265995499658127+0j)\n",
      "XXXYYX\t(-0.008650156860609843+0j)\n",
      "XYYXXX\t(0.008650156860609843+0j)\n",
      "XXXXYY\t(0.008650156860609843+0j)\n",
      "XYYYXY\t(0.008650156860609843+0j)\n",
      "XZXIIZ\t(-0.03169874598734439+0j)\n",
      "YIYZZZ\t(-0.03169874598734439+0j)\n",
      "XZXIZX\t(0.008650156860609843+0j)\n",
      "YIYZIX\t(0.008650156860609843+0j)\n",
      "XZXIIX\t(-0.008650156860609843+0j)\n",
      "YIYZZX\t(-0.008650156860609843+0j)\n",
      "XZXYYX\t(0.030981613344629497+0j)\n",
      "YIYXXX\t(-0.030981613344629497+0j)\n",
      "XZXXYY\t(-0.030981613344629497+0j)\n",
      "YIYYXY\t(-0.030981613344629497+0j)\n",
      "IZIIIZ\t(0.05590251078515894+0j)\n",
      "IZIIZX\t(0.0018710427514161115+0j)\n",
      "IZIIIX\t(-0.0018710427514161115+0j)\n",
      "IZIYYX\t(0.003104004116073318+0j)\n",
      "IZIXYY\t(-0.003104004116073318+0j)\n",
      "IXIIIZ\t(0.012841723180756864+0j)\n",
      "ZXIIIZ\t(-0.012841723180756864+0j)\n",
      "IXIIZX\t(-0.0023521521732444697+0j)\n",
      "ZXIIZX\t(0.0023521521732444697+0j)\n",
      "IXIIIX\t(0.0023521521732444697+0j)\n",
      "ZXIIIX\t(-0.0023521521732444697+0j)\n",
      "IXIYYX\t(-0.007975908750564325+0j)\n",
      "ZXIYYX\t(0.007975908750564325+0j)\n",
      "IXIXYY\t(0.007975908750564325+0j)\n",
      "ZXIXYY\t(-0.007975908750564325+0j)\n",
      "ZZIIIZ\t(0.11346110712685435+0j)\n",
      "ZZIIZX\t(-0.010838363828740292+0j)\n",
      "ZZIIIX\t(0.010838363828740292+0j)\n",
      "ZZIYYX\t(-0.033551353111238406+0j)\n",
      "ZZIXYY\t(0.033551353111238406+0j)\n",
      "IIIZZZ\t(0.05374686574462905+0j)\n",
      "IIZZIZ\t(0.05590251078515894+0j)\n",
      "IIZXXZ\t(-0.012841723180756862+0j)\n",
      "IIZYYI\t(-0.012841723180756862+0j)\n",
      "XXXIZZ\t(-0.0018710427514161115+0j)\n",
      "XYYZIZ\t(-0.0018710427514161115+0j)\n",
      "XXXYYZ\t(0.00235215217324447+0j)\n",
      "XYYXXZ\t(-0.00235215217324447+0j)\n",
      "XXXXXI\t(0.00235215217324447+0j)\n",
      "XYYYYI\t(-0.00235215217324447+0j)\n",
      "XZXIZZ\t(0.003104004116073318+0j)\n",
      "YIYZIZ\t(0.003104004116073318+0j)\n",
      "XZXYYZ\t(-0.007975908750564323+0j)\n",
      "YIYXXZ\t(0.007975908750564323+0j)\n",
      "XZXXXI\t(-0.007975908750564323+0j)\n",
      "YIYYYI\t(0.007975908750564323+0j)\n",
      "IZIIZZ\t(0.08447056807294587+0j)\n",
      "IZIYYZ\t(-0.008994911953942175+0j)\n",
      "IZIXXI\t(-0.008994911953942175+0j)\n",
      "IXIIZZ\t(-0.008994911953942173+0j)\n",
      "ZXIIZZ\t(0.008994911953942173+0j)\n",
      "IXIYYZ\t(0.006612047066151935+0j)\n",
      "ZXIYYZ\t(-0.006612047066151935+0j)\n",
      "IXIXXI\t(0.006612047066151935+0j)\n",
      "ZXIXXI\t(-0.006612047066151935+0j)\n",
      "ZZIIZZ\t(0.060358912810780985+0j)\n",
      "ZZIYYZ\t(0.0110192316447123+0j)\n",
      "ZZIXXI\t(0.0110192316447123+0j)\n",
      "IIZIZI\t(0.11346110712685435+0j)\n",
      "XXXZII\t(0.010838363828740292+0j)\n",
      "XYYIZI\t(0.010838363828740292+0j)\n",
      "XZXZII\t(-0.033551353111238406+0j)\n",
      "YIYIZI\t(-0.033551353111238406+0j)\n",
      "IZIZII\t(0.060358912810780985+0j)\n",
      "IXIZII\t(0.0110192316447123+0j)\n",
      "ZXIZII\t(-0.0110192316447123+0j)\n",
      "ZZIZII\t(0.11344680300367219+0j)\n",
      "IZZZZI\t(0.05263651528550081+0j)\n",
      "ZXZZZI\t(-0.004191566320147021+0j)\n",
      "IXZZZI\t(0.004191566320147021+0j)\n",
      "ZZZZZI\t(0.08247949378222487+0j)\n",
      "YZYZZI\t(0.005456156289317787+0j)\n",
      "XIXIII\t(0.005456156289317787+0j)\n",
      "YXYZZI\t(0.0028624550781759677+0j)\n",
      "YYXIII\t(-0.0028624550781759677+0j)\n",
      "ZIIIII\t(0.05374686574462905+0j)\n",
      "\n"
     ]
    }
   ],
   "source": [
    "# prepare full idx of freeze_list and remove_list\n",
    "# convert all negative idx to positive\n",
    "remove_list = [x % molecule.num_orbitals for x in remove_list]\n",
    "freeze_list = [x % molecule.num_orbitals for x in freeze_list]\n",
    "# update the idx in remove_list of the idx after frozen, since the idx of orbitals are changed after freezing\n",
    "remove_list = [x - len(freeze_list) for x in remove_list]\n",
    "remove_list += [x + molecule.num_orbitals - len(freeze_list)  for x in remove_list]\n",
    "freeze_list += [x + molecule.num_orbitals for x in freeze_list]\n",
    "\n",
    "# prepare fermionic hamiltonian with orbital freezing and eliminating, and then map to qubit hamiltonian\n",
    "# and if PARITY mapping is selected, reduction qubits\n",
    "energy_shift = 0.0\n",
    "qubit_reduction = True if map_type == 'parity' else False\n",
    "\n",
    "ferOp = FermionicOperator(h1=h1, h2=h2)\n",
    "if len(freeze_list) > 0:\n",
    "    ferOp, energy_shift = ferOp.fermion_mode_freezing(freeze_list)\n",
    "    num_spin_orbitals -= len(freeze_list)\n",
    "    num_particles -= len(freeze_list)\n",
    "if len(remove_list) > 0:\n",
    "    ferOp = ferOp.fermion_mode_elimination(remove_list)\n",
    "    num_spin_orbitals -= len(remove_list)\n",
    "\n",
    "qubitOp = ferOp.mapping(map_type=map_type, threshold=0.00000001)\n",
    "qubitOp = Z2Symmetries.two_qubit_reduction(qubitOp, num_particles) if qubit_reduction else qubitOp\n",
    "qubitOp.chop(10**-10)\n",
    "\n",
    "print(qubitOp)\n",
    "print(qubitOp.print_details())"
   ]
  },
  {
   "cell_type": "code",
   "execution_count": 7,
   "metadata": {},
   "outputs": [
    {
     "data": {
      "text/html": [
       "<h3>Version Information</h3><table><tr><th>Qiskit Software</th><th>Version</th></tr><tr><td>Qiskit</td><td>0.14.1</td></tr><tr><td>Terra</td><td>0.11.1</td></tr><tr><td>Aer</td><td>0.3.4</td></tr><tr><td>Ignis</td><td>0.2.0</td></tr><tr><td>Aqua</td><td>0.6.2</td></tr><tr><td>IBM Q Provider</td><td>0.4.5</td></tr><tr><th>System information</th></tr><tr><td>Python</td><td>3.7.4 (default, Aug 13 2019, 15:17:50) \n",
       "[Clang 4.0.1 (tags/RELEASE_401/final)]</td></tr><tr><td>OS</td><td>Darwin</td></tr><tr><td>CPUs</td><td>6</td></tr><tr><td>Memory (Gb)</td><td>16.0</td></tr><tr><td colspan='2'>Tue Feb 25 17:45:05 2020 EST</td></tr></table>"
      ],
      "text/plain": [
       "<IPython.core.display.HTML object>"
      ]
     },
     "metadata": {},
     "output_type": "display_data"
    },
    {
     "data": {
      "text/html": [
       "<div style='width: 100%; background-color:#d5d9e0;padding-left: 10px; padding-bottom: 10px; padding-right: 10px; padding-top: 5px'><h3>This code is a part of Qiskit</h3><p>&copy; Copyright IBM 2017, 2020.</p><p>This code is licensed under the Apache License, Version 2.0. You may<br>obtain a copy of this license in the LICENSE.txt file in the root directory<br> of this source tree or at http://www.apache.org/licenses/LICENSE-2.0.<p>Any modifications or derivative works of this code must retain this<br>copyright notice, and modified files need to carry a notice indicating<br>that they have been altered from the originals.</p></div>"
      ],
      "text/plain": [
       "<IPython.core.display.HTML object>"
      ]
     },
     "metadata": {},
     "output_type": "display_data"
    }
   ],
   "source": [
    "import qiskit.tools.jupyter\n",
    "%qiskit_version_table\n",
    "%qiskit_copyright"
   ]
  },
  {
   "cell_type": "code",
   "execution_count": null,
   "metadata": {},
   "outputs": [],
   "source": []
  }
 ],
 "metadata": {
  "kernelspec": {
   "display_name": "Python 3",
   "language": "python",
   "name": "python3"
  },
  "language_info": {
   "codemirror_mode": {
    "name": "ipython",
    "version": 3
   },
   "file_extension": ".py",
   "mimetype": "text/x-python",
   "name": "python",
   "nbconvert_exporter": "python",
   "pygments_lexer": "ipython3",
   "version": "3.7.4"
  },
  "varInspector": {
   "cols": {
    "lenName": 16,
    "lenType": 16,
    "lenVar": 40
   },
   "kernels_config": {
    "python": {
     "delete_cmd_postfix": "",
     "delete_cmd_prefix": "del ",
     "library": "var_list.py",
     "varRefreshCmd": "print(var_dic_list())"
    },
    "r": {
     "delete_cmd_postfix": ") ",
     "delete_cmd_prefix": "rm(",
     "library": "var_list.r",
     "varRefreshCmd": "cat(var_dic_list()) "
    }
   },
   "types_to_exclude": [
    "module",
    "function",
    "builtin_function_or_method",
    "instance",
    "_Feature"
   ],
   "window_display": false
  }
 },
 "nbformat": 4,
 "nbformat_minor": 2
}
