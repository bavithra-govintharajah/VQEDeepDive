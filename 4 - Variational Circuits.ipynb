{
 "cells": [
  {
   "cell_type": "code",
   "execution_count": 1,
   "metadata": {},
   "outputs": [],
   "source": [
    "from qiskit.aqua.operators import WeightedPauliOperator\n",
    "from qiskit.chemistry import FermionicOperator\n",
    "from qiskit.chemistry.drivers import PySCFDriver, UnitsType\n",
    "from qiskit.aqua.components.initial_states import Zero\n",
    "from qiskit.chemistry.components.initial_states import HartreeFock\n",
    "from qiskit.chemistry.components.variational_forms import UCCSD\n",
    "from qiskit.aqua.operators import Z2Symmetries\n",
    "from qiskit.aqua.components.variational_forms import RY, RYRZ, swaprz\n",
    "from qiskit import BasicAer\n",
    "from qiskit.aqua.components.optimizers import COBYLA, L_BFGS_B, SLSQP\n",
    "import numpy as np\n",
    "from qiskit.aqua import QuantumInstance, aqua_globals\n",
    "from qiskit.aqua.algorithms.adaptive import VQE\n",
    "from qiskit.aqua.algorithms.classical import ExactEigensolver\n",
    "import pylab\n",
    "import matplotlib.pyplot as plt"
   ]
  },
  {
   "cell_type": "code",
   "execution_count": 2,
   "metadata": {},
   "outputs": [
    {
     "name": "stdout",
     "output_type": "stream",
     "text": [
      "Number of qubits: 2\n"
     ]
    }
   ],
   "source": [
    "pauli_dict = {\n",
    "    'paulis': [{\"coeff\": {\"imag\": 0.0, \"real\": -1.052373245772859}, \"label\": \"II\"},\n",
    "              {\"coeff\": {\"imag\": 0.0, \"real\": 0.39793742484318045}, \"label\": \"ZI\"},\n",
    "              {\"coeff\": {\"imag\": 0.0, \"real\": -0.39793742484318045}, \"label\": \"IZ\"},\n",
    "              {\"coeff\": {\"imag\": 0.0, \"real\": -0.01128010425623538}, \"label\": \"ZZ\"},\n",
    "              {\"coeff\": {\"imag\": 0.0, \"real\": 0.18093119978423156}, \"label\": \"XX\"}\n",
    "              ]\n",
    "}\n",
    "\n",
    "qubit_op = WeightedPauliOperator.from_dict(pauli_dict)\n",
    "num_qubits = qubit_op.num_qubits\n",
    "print('Number of qubits: {}'.format(num_qubits))"
   ]
  },
  {
   "cell_type": "code",
   "execution_count": 3,
   "metadata": {},
   "outputs": [
    {
     "name": "stdout",
     "output_type": "stream",
     "text": [
      "HF energy: -8.854072040283647\n",
      "# of electrons: 4\n",
      "# of spin orbitals: 12\n"
     ]
    }
   ],
   "source": [
    "# using driver to get fermionic Hamiltonian\n",
    "# PySCF example\n",
    "driver = PySCFDriver(atom='Li .0 .0 .0; H .0 .0 1.6', unit=UnitsType.ANGSTROM,\n",
    "                     charge=0, spin=0, basis='sto3g')\n",
    "molecule = driver.run()\n",
    "\n",
    "# please be aware that the idx here with respective to original idx\n",
    "freeze_list = [0]\n",
    "remove_list = [-3, -2] # negative number denotes the reverse order\n",
    "map_type = 'parity'\n",
    "\n",
    "h1 = molecule.one_body_integrals\n",
    "h2 = molecule.two_body_integrals\n",
    "nuclear_repulsion_energy = molecule.nuclear_repulsion_energy\n",
    "\n",
    "num_particles = molecule.num_alpha + molecule.num_beta\n",
    "num_spin_orbitals = molecule.num_orbitals * 2\n",
    "print(\"HF energy: {}\".format(molecule.hf_energy - molecule.nuclear_repulsion_energy))\n",
    "print(\"# of electrons: {}\".format(num_particles))\n",
    "print(\"# of spin orbitals: {}\".format(num_spin_orbitals))"
   ]
  },
  {
   "cell_type": "code",
   "execution_count": 4,
   "metadata": {
    "scrolled": true
   },
   "outputs": [
    {
     "name": "stdout",
     "output_type": "stream",
     "text": [
      "Representation: paulis, qubits: 4, size: 100\n",
      "4\n"
     ]
    }
   ],
   "source": [
    "# prepare full idx of freeze_list and remove_list\n",
    "# convert all negative idx to positive\n",
    "remove_list = [x % molecule.num_orbitals for x in remove_list]\n",
    "freeze_list = [x % molecule.num_orbitals for x in freeze_list]\n",
    "# update the idx in remove_list of the idx after frozen, since the idx of orbitals are changed after freezing\n",
    "remove_list = [x - len(freeze_list) for x in remove_list]\n",
    "remove_list += [x + molecule.num_orbitals - len(freeze_list)  for x in remove_list]\n",
    "freeze_list += [x + molecule.num_orbitals for x in freeze_list]\n",
    "\n",
    "# prepare fermionic hamiltonian with orbital freezing and eliminating, and then map to qubit hamiltonian\n",
    "# and if PARITY mapping is selected, reduction qubits\n",
    "energy_shift = 0.0\n",
    "qubit_reduction = True if map_type == 'parity' else False\n",
    "\n",
    "ferOp = FermionicOperator(h1=h1, h2=h2)\n",
    "if len(freeze_list) > 0:\n",
    "    ferOp, energy_shift = ferOp.fermion_mode_freezing(freeze_list)\n",
    "    num_spin_orbitals -= len(freeze_list)\n",
    "    num_particles -= len(freeze_list)\n",
    "if len(remove_list) > 0:\n",
    "    ferOp = ferOp.fermion_mode_elimination(remove_list)\n",
    "    num_spin_orbitals -= len(remove_list)\n",
    "\n",
    "qubit_op = ferOp.mapping(map_type=map_type)\n",
    "qubit_op = Z2Symmetries.two_qubit_reduction(qubit_op, num_particles) if qubit_reduction else qubitOp\n",
    "qubit_op.chop(10**-10)\n",
    "\n",
    "# print(qubit_op.print_operators())\n",
    "print(qubit_op)\n",
    "print(qubit_op.num_qubits)"
   ]
  },
  {
   "cell_type": "code",
   "execution_count": 5,
   "metadata": {},
   "outputs": [],
   "source": [
    "num_qubits = qubit_op.num_qubits\n",
    "\n",
    "init_state_UCCSD = HartreeFock(qubit_op.num_qubits, num_spin_orbitals, num_particles, map_type, \n",
    "                       qubit_reduction)\n",
    "init_state_Zero = Zero(num_qubits)"
   ]
  },
  {
   "cell_type": "code",
   "execution_count": 6,
   "metadata": {
    "scrolled": false
   },
   "outputs": [],
   "source": [
    "UCCSD_var_form = UCCSD(num_qubits,depth=1, num_orbitals=num_spin_orbitals,num_particles=num_particles, initial_state=init_state_UCCSD)"
   ]
  },
  {
   "cell_type": "code",
   "execution_count": 7,
   "metadata": {},
   "outputs": [
    {
     "data": {
      "text/plain": [
       "8"
      ]
     },
     "execution_count": 7,
     "metadata": {},
     "output_type": "execute_result"
    }
   ],
   "source": [
    "UCCSD_var_form.num_parameters"
   ]
  },
  {
   "cell_type": "code",
   "execution_count": 8,
   "metadata": {},
   "outputs": [],
   "source": [
    "## Some code that extract the variational form.  Ideally it will draw it out as well.\n",
    "init_state = Zero(num_qubits)\n",
    "var_form = RY(num_qubits, initial_state=init_state_Zero)"
   ]
  },
  {
   "cell_type": "code",
   "execution_count": 9,
   "metadata": {},
   "outputs": [],
   "source": [
    "backend = BasicAer.get_backend('statevector_simulator')"
   ]
  },
  {
   "cell_type": "code",
   "execution_count": 10,
   "metadata": {},
   "outputs": [
    {
     "name": "stdout",
     "output_type": "stream",
     "text": [
      "Optimization complete      \n"
     ]
    }
   ],
   "source": [
    "optimizers = [COBYLA, SLSQP]\n",
    "converge_cnts = np.empty([len(optimizers)], dtype=object)\n",
    "converge_vals = np.empty([len(optimizers)], dtype=object)\n",
    "param_vals = np.empty([len(optimizers)], dtype=object)\n",
    "num_qubits = qubit_op.num_qubits\n",
    "\n",
    "for i in range(len(optimizers)):\n",
    "    aqua_globals.random_seed = 250\n",
    "    optimizer = optimizers[i](maxiter = 10)\n",
    "    print('\\rOptimizer: {}        '.format(type(optimizer).__name__), end='')\n",
    "\n",
    "    counts = []\n",
    "    values = []\n",
    "    params = []\n",
    "    def store_intermediate_result(eval_count, parameters, mean, std):\n",
    "        counts.append(eval_count)\n",
    "        values.append(mean)\n",
    "        params.append(parameters)\n",
    "  \n",
    "    algo = VQE(qubit_op, UCCSD_var_form, optimizer, callback=store_intermediate_result)\n",
    "    quantum_instance = QuantumInstance(backend=backend)  \n",
    "    algo_result = algo.run(quantum_instance)\n",
    "    converge_cnts[i] = np.asarray(counts)\n",
    "    converge_vals[i] = np.asarray(values)\n",
    "    param_vals[i] = np.asarray(params)\n",
    "print('\\rOptimization complete      ');"
   ]
  },
  {
   "cell_type": "markdown",
   "metadata": {},
   "source": [
    "### 4.4 Energy convergence\n",
    "Using a classical computer to compare reasonably sized problems"
   ]
  },
  {
   "cell_type": "code",
   "execution_count": 11,
   "metadata": {},
   "outputs": [
    {
     "name": "stdout",
     "output_type": "stream",
     "text": [
      "Reference value: -1.077059745734694\n"
     ]
    }
   ],
   "source": [
    "ee = ExactEigensolver(qubit_op)\n",
    "result = ee.run()\n",
    "ref = result['energy']\n",
    "print('Reference value: {}'.format(ref))"
   ]
  },
  {
   "cell_type": "code",
   "execution_count": 12,
   "metadata": {},
   "outputs": [
    {
     "data": {
      "text/plain": [
       "<matplotlib.legend.Legend at 0x1a1ce14ad0>"
      ]
     },
     "execution_count": 12,
     "metadata": {},
     "output_type": "execute_result"
    },
    {
     "data": {
      "image/png": "[encoded data removed]",
      "text/plain": [
       "<Figure size 720x360 with 1 Axes>"
      ]
     },
     "metadata": {
      "needs_background": "light"
     },
     "output_type": "display_data"
    }
   ],
   "source": [
    "plt.figure(figsize=(10,5))\n",
    "for i in range(len(optimizers)):\n",
    "    plt.plot(converge_cnts[i], abs(ref - converge_vals[i]), label=optimizers[i].__name__)\n",
    "plt.xlabel('Eval count')\n",
    "plt.ylabel('Energy difference from solution reference value')\n",
    "plt.title('Energy convergence for various optimizers')\n",
    "plt.yscale('log')\n",
    "plt.legend(loc='upper right')"
   ]
  },
  {
   "cell_type": "code",
   "execution_count": 13,
   "metadata": {},
   "outputs": [
    {
     "name": "stdout",
     "output_type": "stream",
     "text": [
      "Optimization complete      \n"
     ]
    }
   ],
   "source": [
    "optimizers = [COBYLA, SLSQP]\n",
    "converge_cnts = np.empty([len(optimizers)], dtype=object)\n",
    "converge_vals = np.empty([len(optimizers)], dtype=object)\n",
    "param_vals = np.empty([len(optimizers)], dtype=object)\n",
    "num_qubits = qubit_op.num_qubits\n",
    "\n",
    "for i in range(len(optimizers)):\n",
    "    aqua_globals.random_seed = 250\n",
    "    optimizer = optimizers[i]()\n",
    "    print('\\rOptimizer: {}        '.format(type(optimizer).__name__), end='')\n",
    "\n",
    "    counts = []\n",
    "    values = []\n",
    "    params = []\n",
    "    def store_intermediate_result(eval_count, parameters, mean, std):\n",
    "        counts.append(eval_count)\n",
    "        values.append(mean)\n",
    "        params.append(parameters)\n",
    "  \n",
    "    algo = VQE(qubit_op, var_form, optimizer, callback=store_intermediate_result)\n",
    "    quantum_instance = QuantumInstance(backend=backend)  \n",
    "    algo_result = algo.run(quantum_instance)\n",
    "    converge_cnts[i] = np.asarray(counts)\n",
    "    converge_vals[i] = np.asarray(values)\n",
    "    param_vals[i] = np.asarray(params)\n",
    "print('\\rOptimization complete      ');"
   ]
  },
  {
   "cell_type": "code",
   "execution_count": 14,
   "metadata": {},
   "outputs": [
    {
     "data": {
      "text/plain": [
       "<qiskit.aqua.components.variational_forms.ry.RY at 0x1a1ce6d250>"
      ]
     },
     "execution_count": 14,
     "metadata": {},
     "output_type": "execute_result"
    }
   ],
   "source": [
    "var_form"
   ]
  },
  {
   "cell_type": "code",
   "execution_count": 15,
   "metadata": {
    "scrolled": false
   },
   "outputs": [
    {
     "data": {
      "text/html": [
       "<pre style=\"word-wrap: normal;white-space: pre;background: #fff0;line-height: 1.1;font-family: &quot;Courier New&quot;,Courier,monospace\">         ┌─────────────────┐  ░                                               »\n",
       "q_0: |0>─┤ U3(-2.1771,0,0) ├──░───────────────■────────────────■──────────────»\n",
       "         ├─────────────────┴┐ ░ ┌──────────┐┌─┴─┐┌──────────┐  │              »\n",
       "q_1: |0>─┤ U3(-0.51026,0,0) ├─░─┤ U2(0,pi) ├┤ X ├┤ U2(0,pi) ├──┼──────────────»\n",
       "        ┌┴──────────────────┤ ░ ├──────────┤└───┘└──────────┘┌─┴─┐┌──────────┐»\n",
       "q_2: |0>┤ U3(-0.002656,0,0) ├─░─┤ U2(0,pi) ├─────────────────┤ X ├┤ U2(0,pi) ├»\n",
       "        └┬─────────────────┬┘ ░ ├──────────┤                 └───┘└──────────┘»\n",
       "q_3: |0>─┤ U3(0.23925,0,0) ├──░─┤ U2(0,pi) ├──────────────────────────────────»\n",
       "         └─────────────────┘  ░ └──────────┘                                  »\n",
       "«                                                                           »\n",
       "«q_0: ──■───────────────────────────────────────────────────────────────────»\n",
       "«       │                                                                   »\n",
       "«q_1: ──┼───────────────────■────────────────────■──────────────────────────»\n",
       "«       │  ┌──────────┐   ┌─┴─┐    ┌──────────┐  │                          »\n",
       "«q_2: ──┼──┤ U2(0,pi) ├───┤ X ├────┤ U2(0,pi) ├──┼──────────────────────────»\n",
       "«     ┌─┴─┐├──────────┤┌──┴───┴───┐└──────────┘┌─┴─┐┌──────────┐┌──────────┐»\n",
       "«q_3: ┤ X ├┤ U2(0,pi) ├┤ U2(0,pi) ├────────────┤ X ├┤ U2(0,pi) ├┤ U2(0,pi) ├»\n",
       "«     └───┘└──────────┘└──────────┘            └───┘└──────────┘└──────────┘»\n",
       "«                       ░ ┌─────────────────┐  ░                              »\n",
       "«q_0: ──────────────────░─┤ U3(0.55034,0,0) ├──░───────────────■──────────────»\n",
       "«                       ░ └┬────────────────┤  ░ ┌──────────┐┌─┴─┐┌──────────┐»\n",
       "«q_1: ──────────────────░──┤ U3(1.7621,0,0) ├──░─┤ U2(0,pi) ├┤ X ├┤ U2(0,pi) ├»\n",
       "«                       ░ ┌┴────────────────┴┐ ░ ├──────────┤└───┘└──────────┘»\n",
       "«q_2: ──■───────────────░─┤ U3(0.030564,0,0) ├─░─┤ U2(0,pi) ├─────────────────»\n",
       "«     ┌─┴─┐┌──────────┐ ░ └┬────────────────┬┘ ░ ├──────────┤                 »\n",
       "«q_3: ┤ X ├┤ U2(0,pi) ├─░──┤ U3(-1.246,0,0) ├──░─┤ U2(0,pi) ├─────────────────»\n",
       "«     └───┘└──────────┘ ░  └────────────────┘  ░ └──────────┘                 »\n",
       "«                                                                    »\n",
       "«q_0: ──■────────────────■───────────────────────────────────────────»\n",
       "«       │                │                                           »\n",
       "«q_1: ──┼────────────────┼───────────────────■────────────────────■──»\n",
       "«     ┌─┴─┐┌──────────┐  │  ┌──────────┐   ┌─┴─┐    ┌──────────┐  │  »\n",
       "«q_2: ┤ X ├┤ U2(0,pi) ├──┼──┤ U2(0,pi) ├───┤ X ├────┤ U2(0,pi) ├──┼──»\n",
       "«     └───┘└──────────┘┌─┴─┐├──────────┤┌──┴───┴───┐└──────────┘┌─┴─┐»\n",
       "«q_3: ─────────────────┤ X ├┤ U2(0,pi) ├┤ U2(0,pi) ├────────────┤ X ├»\n",
       "«                      └───┘└──────────┘└──────────┘            └───┘»\n",
       "«                                               ░  ┌────────────────┐ ░ »\n",
       "«q_0: ──────────────────────────────────────────░──┤ U3(2.3448,0,0) ├─░─»\n",
       "«                                               ░  ├────────────────┤ ░ »\n",
       "«q_1: ──────────────────────────────────────────░──┤ U3(0.4059,0,0) ├─░─»\n",
       "«                                               ░ ┌┴────────────────┤ ░ »\n",
       "«q_2: ──────────────────────────■───────────────░─┤ U3(0.29567,0,0) ├─░─»\n",
       "«     ┌──────────┐┌──────────┐┌─┴─┐┌──────────┐ ░ ├─────────────────┤ ░ »\n",
       "«q_3: ┤ U2(0,pi) ├┤ U2(0,pi) ├┤ X ├┤ U2(0,pi) ├─░─┤ U3(-1.9848,0,0) ├─░─»\n",
       "«     └──────────┘└──────────┘└───┘└──────────┘ ░ └─────────────────┘ ░ »\n",
       "«                                                                    »\n",
       "«q_0: ──────────────■────────────────■────────────────■──────────────»\n",
       "«     ┌──────────┐┌─┴─┐┌──────────┐  │                │              »\n",
       "«q_1: ┤ U2(0,pi) ├┤ X ├┤ U2(0,pi) ├──┼────────────────┼──────────────»\n",
       "«     ├──────────┤└───┘└──────────┘┌─┴─┐┌──────────┐  │  ┌──────────┐»\n",
       "«q_2: ┤ U2(0,pi) ├─────────────────┤ X ├┤ U2(0,pi) ├──┼──┤ U2(0,pi) ├»\n",
       "«     ├──────────┤                 └───┘└──────────┘┌─┴─┐├──────────┤»\n",
       "«q_3: ┤ U2(0,pi) ├──────────────────────────────────┤ X ├┤ U2(0,pi) ├»\n",
       "«     └──────────┘                                  └───┘└──────────┘»\n",
       "«                                                                            ░ »\n",
       "«q_0: ───────────────────────────────────────────────────────────────────────░─»\n",
       "«                                                                            ░ »\n",
       "«q_1: ─────■────────────────────■────────────────────────────────────────────░─»\n",
       "«        ┌─┴─┐    ┌──────────┐  │                                            ░ »\n",
       "«q_2: ───┤ X ├────┤ U2(0,pi) ├──┼────────────────────────────■───────────────░─»\n",
       "«     ┌──┴───┴───┐└──────────┘┌─┴─┐┌──────────┐┌──────────┐┌─┴─┐┌──────────┐ ░ »\n",
       "«q_3: ┤ U2(0,pi) ├────────────┤ X ├┤ U2(0,pi) ├┤ U2(0,pi) ├┤ X ├┤ U2(0,pi) ├─░─»\n",
       "«     └──────────┘            └───┘└──────────┘└──────────┘└───┘└──────────┘ ░ »\n",
       "«     ┌─────────────────┐  ░ \n",
       "«q_0: ┤ U3(-1.5879,0,0) ├──░─\n",
       "«     └┬───────────────┬┘  ░ \n",
       "«q_1: ─┤ U3(1.069,0,0) ├───░─\n",
       "«     ┌┴───────────────┴─┐ ░ \n",
       "«q_2: ┤ U3(0.037783,0,0) ├─░─\n",
       "«     └┬────────────────┬┘ ░ \n",
       "«q_3: ─┤ U3(2.0448,0,0) ├──░─\n",
       "«      └────────────────┘  ░ </pre>"
      ],
      "text/plain": [
       "<qiskit.visualization.text.TextDrawing at 0x1a1d094d10>"
      ]
     },
     "execution_count": 15,
     "metadata": {},
     "output_type": "execute_result"
    }
   ],
   "source": [
    "test = -1\n",
    "interesting_pt = param_vals[1][test]\n",
    "circuit = algo.construct_circuit(interesting_pt)\n",
    "circuit[0].draw()"
   ]
  },
  {
   "cell_type": "code",
   "execution_count": 16,
   "metadata": {},
   "outputs": [
    {
     "name": "stdout",
     "output_type": "stream",
     "text": [
      "Reference value: -1.0770597457346962\n"
     ]
    }
   ],
   "source": [
    "ee = ExactEigensolver(qubit_op)\n",
    "result = ee.run()\n",
    "ref = result['energy']\n",
    "print('Reference value: {}'.format(ref))"
   ]
  },
  {
   "cell_type": "code",
   "execution_count": 17,
   "metadata": {},
   "outputs": [
    {
     "data": {
      "text/plain": [
       "<matplotlib.legend.Legend at 0x1a1cea30d0>"
      ]
     },
     "execution_count": 17,
     "metadata": {},
     "output_type": "execute_result"
    },
    {
     "data": {
      "image/png": "[encoded data removed]",
      "text/plain": [
       "<Figure size 720x360 with 1 Axes>"
      ]
     },
     "metadata": {
      "needs_background": "light"
     },
     "output_type": "display_data"
    }
   ],
   "source": [
    "plt.figure(figsize=(10,5))\n",
    "for i in range(len(optimizers)):\n",
    "    plt.plot(converge_cnts[i], abs(ref - converge_vals[i]), label=optimizers[i].__name__)\n",
    "plt.xlabel('Eval count')\n",
    "plt.ylabel('Energy difference from solution reference value')\n",
    "plt.title('Energy convergence for various optimizers')\n",
    "plt.yscale('log')\n",
    "plt.legend(loc='upper right')"
   ]
  },
  {
   "cell_type": "code",
   "execution_count": 18,
   "metadata": {},
   "outputs": [
    {
     "data": {
      "text/html": [
       "<h3>Version Information</h3><table><tr><th>Qiskit Software</th><th>Version</th></tr><tr><td>Qiskit</td><td>0.14.1</td></tr><tr><td>Terra</td><td>0.11.1</td></tr><tr><td>Aer</td><td>0.3.4</td></tr><tr><td>Ignis</td><td>0.2.0</td></tr><tr><td>Aqua</td><td>0.6.2</td></tr><tr><td>IBM Q Provider</td><td>0.4.5</td></tr><tr><th>System information</th></tr><tr><td>Python</td><td>3.7.4 (default, Aug 13 2019, 15:17:50) \n",
       "[Clang 4.0.1 (tags/RELEASE_401/final)]</td></tr><tr><td>OS</td><td>Darwin</td></tr><tr><td>CPUs</td><td>6</td></tr><tr><td>Memory (Gb)</td><td>16.0</td></tr><tr><td colspan='2'>Tue Feb 25 17:46:11 2020 EST</td></tr></table>"
      ],
      "text/plain": [
       "<IPython.core.display.HTML object>"
      ]
     },
     "metadata": {},
     "output_type": "display_data"
    },
    {
     "data": {
      "text/html": [
       "<div style='width: 100%; background-color:#d5d9e0;padding-left: 10px; padding-bottom: 10px; padding-right: 10px; padding-top: 5px'><h3>This code is a part of Qiskit</h3><p>&copy; Copyright IBM 2017, 2020.</p><p>This code is licensed under the Apache License, Version 2.0. You may<br>obtain a copy of this license in the LICENSE.txt file in the root directory<br> of this source tree or at http://www.apache.org/licenses/LICENSE-2.0.<p>Any modifications or derivative works of this code must retain this<br>copyright notice, and modified files need to carry a notice indicating<br>that they have been altered from the originals.</p></div>"
      ],
      "text/plain": [
       "<IPython.core.display.HTML object>"
      ]
     },
     "metadata": {},
     "output_type": "display_data"
    }
   ],
   "source": [
    "import qiskit.tools.jupyter\n",
    "%qiskit_version_table\n",
    "%qiskit_copyright"
   ]
  },
  {
   "cell_type": "code",
   "execution_count": null,
   "metadata": {},
   "outputs": [],
   "source": []
  }
 ],
 "metadata": {
  "kernelspec": {
   "display_name": "Python 3",
   "language": "python",
   "name": "python3"
  },
  "language_info": {
   "codemirror_mode": {
    "name": "ipython",
    "version": 3
   },
   "file_extension": ".py",
   "mimetype": "text/x-python",
   "name": "python",
   "nbconvert_exporter": "python",
   "pygments_lexer": "ipython3",
   "version": "3.7.4"
  }
 },
 "nbformat": 4,
 "nbformat_minor": 2
}
